{
  "nbformat": 4,
  "nbformat_minor": 0,
  "metadata": {
    "colab": {
      "provenance": []
    },
    "kernelspec": {
      "name": "python3",
      "display_name": "Python 3"
    },
    "language_info": {
      "name": "python"
    }
  },
  "cells": [
    {
      "cell_type": "markdown",
      "source": [
        "# Python step_3"
      ],
      "metadata": {
        "id": "yUkksvesu74t"
      }
    },
    {
      "cell_type": "markdown",
      "source": [
        "##task_1"
      ],
      "metadata": {
        "id": "r3K1Z_SivDO7"
      }
    },
    {
      "cell_type": "code",
      "source": [
        "ids = {'user1': [213, 213, 213, 15, 213], \n",
        "       'user2': [54, 54, 119, 119, 119], \n",
        "       'user3': [213, 98, 98, 35]}\n",
        "def uniuqe(ids):\n",
        "\n",
        "  langs = []\n",
        "  for lang in ids.values():\n",
        "    for _ in lang:\n",
        "      if _ not in langs:\n",
        "         langs.append(_)\n",
        "  return set(langs)\n",
        "uniuqe(ids)"
      ],
      "metadata": {
        "colab": {
          "base_uri": "https://localhost:8080/"
        },
        "id": "6Hif9cLevCg7",
        "outputId": "0021013c-736d-4b3c-ead4-f82d79c7fe23"
      },
      "execution_count": 26,
      "outputs": [
        {
          "output_type": "execute_result",
          "data": {
            "text/plain": [
              "{15, 35, 54, 98, 119, 213}"
            ]
          },
          "metadata": {},
          "execution_count": 26
        }
      ]
    },
    {
      "cell_type": "markdown",
      "source": [
        "##task_2"
      ],
      "metadata": {
        "id": "Miq_2hQtzk1i"
      }
    },
    {
      "cell_type": "code",
      "source": [
        "queries = [\n",
        "    'смотреть cериалы онлайн',\n",
        "    'новости спорта',\n",
        "    'афиша кино',\n",
        "    'курс доллара',\n",
        "    'сериалы этим летом',\n",
        "    'курс по питону',\n",
        "    'сериалы про спорт',\n",
        "]\n",
        "\n",
        "\n",
        "def percen_words(queries):\n",
        "  res = []\n",
        "  for item in queries:\n",
        "    res.append(len(item.split()))\n",
        "\n",
        "    i = 1\n",
        "\n",
        "  while i <= max(res):\n",
        "    if res.count(i) >0:\n",
        "        print('Поисковых запросов, содержащих', i ,'слов(а/о):', round(res.count(i)*100/len(res),2))\n",
        "    i += 1\n",
        "percen_words(queries)\n"
      ],
      "metadata": {
        "colab": {
          "base_uri": "https://localhost:8080/"
        },
        "id": "CBaqmLfAzjvS",
        "outputId": "3e2cb2b8-0cc6-4895-b7ca-9067bba57dcd"
      },
      "execution_count": 1,
      "outputs": [
        {
          "output_type": "stream",
          "name": "stdout",
          "text": [
            "Поисковых запросов, содержащих 2 слов(а/о): 42.86\n",
            "Поисковых запросов, содержащих 3 слов(а/о): 57.14\n"
          ]
        }
      ]
    },
    {
      "cell_type": "markdown",
      "source": [
        "##task_3"
      ],
      "metadata": {
        "id": "zZ4Y4rCulSRQ"
      }
    },
    {
      "cell_type": "code",
      "source": [
        "results = {\n",
        "    'vk': {'revenue': 103, 'cost': 98},\n",
        "    'yandex': {'revenue': 179, 'cost': 153},\n",
        "    'facebook': {'revenue': 103, 'cost': 110},\n",
        "    'adwords': {'revenue': 35, 'cost': 34},\n",
        "    'twitter': {'revenue': 11, 'cost': 24},\n",
        "}\n",
        "\n",
        "\n",
        "def roi(results):\n",
        "  results_roi = {} #создаем пустой словарь\n",
        "\n",
        "  for row,values in results.items():#итерируемся по ключами и объектам\n",
        "    results_roi.update({row:{'ROI':round((values['revenue'] / values['cost'] - 1) * 100, 2),\\ #добавляем в новый словарь объекты с обновлением\n",
        "                             'cost':values['cost'],\\\n",
        "                             'revenue':values['revenue']}})\n",
        "  return results_roi\n",
        "\n",
        "\n",
        "roi(results)"
      ],
      "metadata": {
        "colab": {
          "base_uri": "https://localhost:8080/"
        },
        "id": "9ir9WaJ1lR3o",
        "outputId": "8dddd0b7-defd-4809-e933-2fb1a25d1e1b"
      },
      "execution_count": 39,
      "outputs": [
        {
          "output_type": "execute_result",
          "data": {
            "text/plain": [
              "{'vk': {'ROI': 5.1, 'cost': 98, 'revenue': 103},\n",
              " 'yandex': {'ROI': 16.99, 'cost': 153, 'revenue': 179},\n",
              " 'facebook': {'ROI': -6.36, 'cost': 110, 'revenue': 103},\n",
              " 'adwords': {'ROI': 2.94, 'cost': 34, 'revenue': 35},\n",
              " 'twitter': {'ROI': -54.17, 'cost': 24, 'revenue': 11}}"
            ]
          },
          "metadata": {},
          "execution_count": 39
        }
      ]
    },
    {
      "cell_type": "markdown",
      "source": [
        "## task_4"
      ],
      "metadata": {
        "id": "KgOP3KgPwRyz"
      }
    },
    {
      "cell_type": "code",
      "source": [
        "stats = {'facebook': 55, 'yandex': 115, 'vk': 120, 'google': 99, 'email': 42, 'ok': 98}\n",
        "\n",
        "def maximum(stats):\n",
        "  return f'Максимальный объем продаж на рекламном канале: {max(stats, key=stats.get)}'\n",
        "maximum(stats)"
      ],
      "metadata": {
        "colab": {
          "base_uri": "https://localhost:8080/",
          "height": 36
        },
        "id": "KEeWhQ-Qvxne",
        "outputId": "c99fe89e-a2b9-49f4-a8a4-4a18bbf21a20"
      },
      "execution_count": 49,
      "outputs": [
        {
          "output_type": "execute_result",
          "data": {
            "text/plain": [
              "'Максимальный объем продаж на рекламном канале: vk'"
            ],
            "application/vnd.google.colaboratory.intrinsic+json": {
              "type": "string"
            }
          },
          "metadata": {},
          "execution_count": 49
        }
      ]
    },
    {
      "cell_type": "markdown",
      "source": [
        "## task_5"
      ],
      "metadata": {
        "id": "9YfIMYPpzR1r"
      }
    },
    {
      "cell_type": "code",
      "source": [
        "my_list = ['2018-01-01', 'yandex', 'cpc', 100]\n",
        "\n",
        "def long_dict(my_list):\n",
        "\n",
        "  leng = len(my_list) - 1\n",
        "\n",
        "  res = {}\n",
        "\n",
        "  res[my_list[leng - 1]] = my_list[leng]\n",
        "\n",
        "  leng = leng - 1\n",
        "\n",
        "  while leng > 0:\n",
        "      leng = leng - 1\n",
        "      finl=res.copy()\n",
        "      res.clear()\n",
        "      res[my_list[leng]] = finl\n",
        "  return res\n",
        "\n",
        "long_dict(my_list)"
      ],
      "metadata": {
        "colab": {
          "base_uri": "https://localhost:8080/"
        },
        "id": "q1nncWUgzVAy",
        "outputId": "179dff91-a57d-40f3-91e5-925652626b6a"
      },
      "execution_count": 57,
      "outputs": [
        {
          "output_type": "execute_result",
          "data": {
            "text/plain": [
              "{'2018-01-01': {'yandex': {'cpc': 100}}}"
            ]
          },
          "metadata": {},
          "execution_count": 57
        }
      ]
    },
    {
      "cell_type": "markdown",
      "source": [
        "## task_6"
      ],
      "metadata": {
        "id": "GAybxx464x3j"
      }
    },
    {
      "cell_type": "code",
      "source": [
        "num = int(input('Введите количество порций: '))\n",
        "cook_book = {\n",
        "  'салат': [\n",
        "     {'ingridient_name': 'сыр', 'quantity': 50, 'measure': 'гр'},\n",
        "     {'ingridient_name': 'томаты', 'quantity': 2, 'measure': 'шт'},\n",
        "     {'ingridient_name': 'огурцы', 'quantity': 20, 'measure': 'гр'},\n",
        "     {'ingridient_name': 'маслины', 'quantity': 10, 'measure': 'гр'},\n",
        "     {'ingridient_name': 'оливковое масло', 'quantity': 20, 'measure': 'мл'},\n",
        "     {'ingridient_name': 'салат', 'quantity': 10, 'measure': 'гр'},\n",
        "     {'ingridient_name': 'перец', 'quantity': 20, 'measure': 'гр'}\n",
        "    ],\n",
        "  'пицца': [\n",
        "     {'ingridient_name': 'сыр', 'quantity': 20, 'measure': 'гр'},\n",
        "     {'ingridient_name': 'колбаса', 'quantity': 30, 'measure': 'гр'},\n",
        "     {'ingridient_name': 'бекон', 'quantity': 30, 'measure': 'гр'},\n",
        "     {'ingridient_name': 'оливки', 'quantity': 10, 'measure': 'гр'},\n",
        "     {'ingridient_name': 'томаты', 'quantity': 20, 'measure': 'гр'},\n",
        "     {'ingridient_name': 'тесто', 'quantity': 100, 'measure': 'гр'},   \n",
        "    ],\n",
        "  'лимонад': [\n",
        "     {'ingridient_name': 'лимон', 'quantity': 1, 'measure': 'шт'},\n",
        "     {'ingridient_name': 'вода', 'quantity': 200, 'measure': 'мл'},\n",
        "     {'ingridient_name': 'сахар', 'quantity': 10, 'measure': 'гр'},\n",
        "     {'ingridient_name': 'лайм', 'quantity': 20, 'measure': 'гр'},    \n",
        "    ]\n",
        "}\n",
        "\n",
        "\n",
        "def num_of_serv(cook_book):\n",
        "\n",
        "  result = ''\n",
        "  for item in cook_book.items():\n",
        "    print(f'{item[0].capitalize()}:')\n",
        "\n",
        "\n",
        "    for ingridient in item[1]:\n",
        "\n",
        "        meal,weight,gr = ingridient.values()\n",
        "        weight *= num\n",
        "        print(meal.capitalize(),weight,gr)\n",
        "  \n",
        "\n",
        "num_of_serv(cook_book)"
      ],
      "metadata": {
        "colab": {
          "base_uri": "https://localhost:8080/"
        },
        "id": "APsv-paO43AH",
        "outputId": "30a632d2-7bd8-4f9a-e53d-447d7b8412f3"
      },
      "execution_count": 99,
      "outputs": [
        {
          "output_type": "stream",
          "name": "stdout",
          "text": [
            "Введите количество порций: 5\n",
            "Салат:\n",
            "Сыр 250 гр\n",
            "Томаты 10 шт\n",
            "Огурцы 100 гр\n",
            "Маслины 50 гр\n",
            "Оливковое масло 100 мл\n",
            "Салат 50 гр\n",
            "Перец 100 гр\n",
            "Пицца:\n",
            "Сыр 100 гр\n",
            "Колбаса 150 гр\n",
            "Бекон 150 гр\n",
            "Оливки 50 гр\n",
            "Томаты 100 гр\n",
            "Тесто 500 гр\n",
            "Лимонад:\n",
            "Лимон 5 шт\n",
            "Вода 1000 мл\n",
            "Сахар 50 гр\n",
            "Лайм 100 гр\n"
          ]
        }
      ]
    }
  ]
}