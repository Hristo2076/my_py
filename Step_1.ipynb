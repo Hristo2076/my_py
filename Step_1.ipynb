{
  "nbformat": 4,
  "nbformat_minor": 0,
  "metadata": {
    "colab": {
      "provenance": []
    },
    "kernelspec": {
      "name": "python3",
      "display_name": "Python 3"
    },
    "language_info": {
      "name": "python"
    }
  },
  "cells": [
    {
      "cell_type": "markdown",
      "source": [
        "# Python Start"
      ],
      "metadata": {
        "id": "4FWcwmpjrIWv"
      }
    },
    {
      "cell_type": "markdown",
      "source": [
        "##task_1"
      ],
      "metadata": {
        "id": "MGqNiFI8r74e"
      }
    },
    {
      "cell_type": "code",
      "execution_count": 7,
      "metadata": {
        "colab": {
          "base_uri": "https://localhost:8080/",
          "height": 70
        },
        "id": "w3cOmetgq-qS",
        "outputId": "fec383e8-9bcf-4086-bf97-e32ece56ed83"
      },
      "outputs": [
        {
          "name": "stdout",
          "output_type": "stream",
          "text": [
            "dfgdfgf\n",
            "dfgfdgdg\n"
          ]
        },
        {
          "output_type": "execute_result",
          "data": {
            "text/plain": [
              "'Фраза 2 длинее фразы 1'"
            ],
            "application/vnd.google.colaboratory.intrinsic+json": {
              "type": "string"
            }
          },
          "metadata": {},
          "execution_count": 7
        }
      ],
      "source": [
        "ph_1 = input()\n",
        "ph_2 = input()\n",
        "\n",
        "def len_str(ph_1,ph_2):\n",
        "  if len(ph_1) > len(ph_2):\n",
        "    return 'Фраза 1 длинее фразы 2'\n",
        "  elif  len(ph_2) > len(ph_1):\n",
        "    return 'Фраза 2 длинее фразы 1'\n",
        "  else:\n",
        "    return \"Фразы равны\"\n",
        "\n",
        "\n",
        "len_str(ph_1,ph_2)"
      ]
    },
    {
      "cell_type": "markdown",
      "source": [
        "## task_2"
      ],
      "metadata": {
        "id": "PRoGpuA4sEK1"
      }
    },
    {
      "cell_type": "code",
      "source": [
        "year = int(input('Введите год: '))\n",
        "def leap_year(year):\n",
        "  if year % 4 == 0:\n",
        "    return 'Високосный год'\n",
        "  else:\n",
        "    return 'Обычнй год'\n",
        "leap_year(year)"
      ],
      "metadata": {
        "colab": {
          "base_uri": "https://localhost:8080/",
          "height": 53
        },
        "id": "Qm-GMJIEsGjq",
        "outputId": "e253e0eb-1232-40db-e8b1-8a069bfe91b4"
      },
      "execution_count": 11,
      "outputs": [
        {
          "name": "stdout",
          "output_type": "stream",
          "text": [
            "Введите год: 2024\n"
          ]
        },
        {
          "output_type": "execute_result",
          "data": {
            "text/plain": [
              "'Високосный год'"
            ],
            "application/vnd.google.colaboratory.intrinsic+json": {
              "type": "string"
            }
          },
          "metadata": {},
          "execution_count": 11
        }
      ]
    },
    {
      "cell_type": "markdown",
      "source": [
        "## task_3"
      ],
      "metadata": {
        "id": "dqzon370vNAw"
      }
    },
    {
      "cell_type": "code",
      "source": [
        "day = int(input('Введите день: '))\n",
        "month = input('Введите месяц: ')\n",
        "\n",
        "def horoscope(day, moth):\n",
        "\n",
        "  if month == 'Декабрь':\n",
        "    astro_sign = 'Стрелец'  if(day < 22) else 'Стрелец'\n",
        "  elif month == 'Январь':\n",
        "    astro_sign = 'Козерог'  if(day < 20) else 'Водолей'\n",
        "  elif month == 'Февраль':\n",
        "   astro_sign = 'Водолей'  if(day < 19) else 'Рыбы'\n",
        "  elif month == 'Март':\n",
        "    astro_sign = 'Рыбы'  if(day < 21) else 'Овен'\n",
        "  elif month == 'Апрель':\n",
        "    astro_sign = 'Овен'  if(day < 20) else 'Телец'\n",
        "  elif month == 'Май':\n",
        "    astro_sign = 'Телец'  if(day < 21) else 'Близнецы'\n",
        "  elif month == 'Июнь':\n",
        "    astro_sign = 'Близнецы'  if(day < 21) else 'Рак'\n",
        "  elif month == 'Июль':\n",
        "    astro_sign = 'Рак'  if(day < 23) else 'Лев'\n",
        "  elif month == 'Август':\n",
        "    astro_sign = 'Лев'  if(day < 23) else 'Дева'\n",
        "  elif month == 'Сентябрь':\n",
        "    astro_sign = 'Дева'  if(day < 23) else 'Весы'\n",
        "  elif month == 'Октябрь':\n",
        "    astro_sign = 'Весы'  if(day < 23) else 'Скорпион'\n",
        "  elif month == 'Ноябрь':\n",
        "    astro_sign = 'Скорпион'  if(day < 22) else 'Стрелец'\n",
        "  else:\n",
        "    astro_sin = 'Chek you data!!!'\n",
        "  return astro_sign\n",
        "horoscope(day,month)\n",
        "\n"
      ],
      "metadata": {
        "colab": {
          "base_uri": "https://localhost:8080/",
          "height": 70
        },
        "id": "3-CkB2zcvLVg",
        "outputId": "ba5b2d58-13f9-4608-ac0b-01a91e9e707b"
      },
      "execution_count": 15,
      "outputs": [
        {
          "name": "stdout",
          "output_type": "stream",
          "text": [
            "Введите день: 30\n",
            "Введите месяц: Декабрь\n"
          ]
        },
        {
          "output_type": "execute_result",
          "data": {
            "text/plain": [
              "'Стрелец'"
            ],
            "application/vnd.google.colaboratory.intrinsic+json": {
              "type": "string"
            }
          },
          "metadata": {},
          "execution_count": 15
        }
      ]
    },
    {
      "cell_type": "markdown",
      "source": [
        "## task_4\n"
      ],
      "metadata": {
        "id": "3Qqurka5vMZZ"
      }
    },
    {
      "cell_type": "code",
      "source": [
        "width = int(input('Введите ширин: '))\n",
        "length = int(input('Введите длину: '))\n",
        "height = int(input('Введите высоту: '))\n",
        "\n",
        "def box(width,length,height):\n",
        "  if width <=15 and length <= 15 and height <= 15:\n",
        "    return \"Ищите Коробку №1\"\n",
        "  elif width > 200 or length > 200 or height > 200:\n",
        "    return 'Ищите Коробку для лыж'\n",
        "  elif 15 < width < 50  or 15 < length < 50 or 15 < height < 50:\n",
        "    return 'Ищите Коробку №2'\n",
        "  else:\n",
        "    return 'Ищите Коробку №3'\n",
        "box(width,length,height)"
      ],
      "metadata": {
        "colab": {
          "base_uri": "https://localhost:8080/",
          "height": 88
        },
        "id": "3h2GGTTYzeR5",
        "outputId": "349836eb-464e-4afe-b248-80927f93fd2f"
      },
      "execution_count": 19,
      "outputs": [
        {
          "name": "stdout",
          "output_type": "stream",
          "text": [
            "Введите ширин: 35\n",
            "Введите длину: 3\n",
            "Введите высоту: 25\n"
          ]
        },
        {
          "output_type": "execute_result",
          "data": {
            "text/plain": [
              "'Коробка №2'"
            ],
            "application/vnd.google.colaboratory.intrinsic+json": {
              "type": "string"
            }
          },
          "metadata": {},
          "execution_count": 19
        }
      ]
    },
    {
      "cell_type": "markdown",
      "source": [
        "## task_5"
      ],
      "metadata": {
        "id": "1d8EO_TQ2wqL"
      }
    },
    {
      "cell_type": "code",
      "source": [
        "ticket = int(input(\"Введите номер билета: \"))\n",
        "def golden_ticket(ticket):\n",
        "  tic = [int(_) for _ in str(ticket)]\n",
        "  return 'Счастливый билет' if sum(tic[:3]) == sum(tic[:-3]) else 'Несчастливый билет'\n",
        "golden_ticket(ticket)"
      ],
      "metadata": {
        "colab": {
          "base_uri": "https://localhost:8080/",
          "height": 53
        },
        "id": "N24L9Xh82v4c",
        "outputId": "7831bdd5-e282-419b-ac01-602b4ba45df7"
      },
      "execution_count": 25,
      "outputs": [
        {
          "name": "stdout",
          "output_type": "stream",
          "text": [
            "Введите номер билета: 123321\n"
          ]
        },
        {
          "output_type": "execute_result",
          "data": {
            "text/plain": [
              "'Счастливый билет'"
            ],
            "application/vnd.google.colaboratory.intrinsic+json": {
              "type": "string"
            }
          },
          "metadata": {},
          "execution_count": 25
        }
      ]
    },
    {
      "cell_type": "code",
      "source": [
        "from math import pi\n",
        "res = input(\"Введите желаемую фигуру: \")\n",
        "  \n",
        "\n",
        "if res == 'Треугольник':\n",
        "  r = int(input('Введите радиус круга:'))\n",
        "\n",
        "  S_cic = pi*r**2\n",
        "\n",
        "  print(f'Площадь круга: {S_cic}')\n",
        "\n",
        "elif res == 'Прямоугольник':\n",
        "  a = int(input(\"Введите размер стороны a:\"))\n",
        "  b = int(input(\"Введите размер стороны b:\"))\n",
        "  S_rec = a * b\n",
        "\n",
        "  print(f'Площадь прямоугольнка: {S_rec}')\n",
        "\n",
        "elif res == 'Треугольник':\n",
        "  a = int(input(\"Введите размер стороны a:\"))\n",
        "  b = int(input(\"Введите размер стороны b:\"))\n",
        "  c = int(input(\"Введите размер стороны c:\"))\n",
        "\n",
        "  h = (a**2 + b**2)**0.5\n",
        "  S_traing = (0.5 * b)* h\n",
        "\n",
        "  print(f'Площадь треугольника: {S_traing}')\n",
        "\n",
        "else:\n",
        "  print(\"ERROR: неверно указан тип фигуры\")\n",
        "\n",
        "\n",
        "\n"
      ],
      "metadata": {
        "colab": {
          "base_uri": "https://localhost:8080/"
        },
        "id": "AwAnzWm_6wqw",
        "outputId": "c6996203-f489-46d7-f2d5-88f818772c04"
      },
      "execution_count": 45,
      "outputs": [
        {
          "output_type": "stream",
          "name": "stdout",
          "text": [
            "Введите желаемую фигуру: Треугольник\n",
            "Введите радиус круга:23\n",
            "Площадь круга: 1661.9025137490005\n"
          ]
        }
      ]
    }
  ]
}