{
  "nbformat": 4,
  "nbformat_minor": 0,
  "metadata": {
    "colab": {
      "provenance": []
    },
    "kernelspec": {
      "name": "python3",
      "display_name": "Python 3"
    },
    "language_info": {
      "name": "python"
    }
  },
  "cells": [
    {
      "cell_type": "markdown",
      "source": [
        "#object-oriented programming"
      ],
      "metadata": {
        "id": "hfg8RPl72JCw"
      }
    },
    {
      "cell_type": "markdown",
      "source": [
        "##task_1"
      ],
      "metadata": {
        "id": "MUrv2b-MA8tI"
      }
    },
    {
      "cell_type": "code",
      "execution_count": null,
      "metadata": {
        "id": "zxdhkaui16MM"
      },
      "outputs": [],
      "source": [
        "import requests\n",
        "import json"
      ]
    },
    {
      "cell_type": "code",
      "source": [],
      "metadata": {
        "colab": {
          "base_uri": "https://localhost:8080/"
        },
        "id": "vQW9o5gh2xG7",
        "outputId": "f5c9bf5e-e6fc-439d-a774-9c3506c6bef3"
      },
      "execution_count": null,
      "outputs": [
        {
          "output_type": "execute_result",
          "data": {
            "text/plain": [
              "98.7568"
            ]
          },
          "metadata": {},
          "execution_count": 18
        }
      ]
    },
    {
      "cell_type": "code",
      "source": [
        "class Rate:\n",
        "    def __init__(self, format_='value',diff=False):\n",
        "        self.format = format_\n",
        "        self.diff = diff\n",
        "    \n",
        "    def exchange_rates(self):\n",
        "        \"\"\"\n",
        "        Возвращает ответ сервиса с информацией о валютах в виде:\n",
        "        \n",
        "        {\n",
        "            'AMD': {\n",
        "                'CharCode': 'AMD',\n",
        "                'ID': 'R01060',\n",
        "                'Name': 'Армянских драмов',\n",
        "                'Nominal': 100,\n",
        "                'NumCode': '051',\n",
        "                'Previous': 14.103,\n",
        "                'Value': 14.0879\n",
        "                },\n",
        "            ...\n",
        "        }\n",
        "        \"\"\"\n",
        "        self.r = requests.get('https://www.cbr-xml-daily.ru/daily_json.js')\n",
        "        return self.r.json()['Valute']\n",
        "    \n",
        "    def make_format(self, currency):\n",
        "        \"\"\"\n",
        "        Возвращает информацию о валюте currency в двух вариантах:\n",
        "        - полная информация о валюте при self.format = 'full':\n",
        "        Rate('full').make_format('EUR')\n",
        "        {\n",
        "            'CharCode': 'EUR',\n",
        "            'ID': 'R01239',\n",
        "            'Name': 'Евро',\n",
        "            'Nominal': 1,\n",
        "            'NumCode': '978',\n",
        "            'Previous': 79.6765,\n",
        "            'Value': 79.4966\n",
        "        }\n",
        "        \n",
        "        Rate('value').make_format('EUR')\n",
        "        79.4966\n",
        "        \"\"\"\n",
        "        response = self.exchange_rates()\n",
        "        \n",
        "        if currency in response:\n",
        "            if self.format == 'full':\n",
        "                return response[currency]\n",
        "            \n",
        "            if self.format == 'value':\n",
        "                return response[currency]['Value']\n",
        "        \n",
        "        return 'Error'\n",
        "    \n",
        "    def eur(self):\n",
        "        \"\"\"Возвращает курс евро на сегодня в формате self.format\"\"\"\n",
        "        return self.make_format('EUR')\n",
        "    \n",
        "    def usd(self):\n",
        "        \"\"\"Возвращает курс доллара на сегодня в формате self.format\"\"\"\n",
        "        return self.make_format('USD')\n",
        "    \n",
        "    def brl(self):\n",
        "        \"\"\"Возвращает курс бразильского реала на сегодня в формате self.format\"\"\"\n",
        "        return self.make_format('BRL')\n",
        "    def max_(self):\n",
        "      res = exchange_rates()\n",
        "      values_ = []\n",
        "      for valut in res.values(): #итерируемся по валютам\n",
        "       for value in valut.items():#заглядываем в их содержание\n",
        "        if 'Value' in value:#ищем курс \n",
        "          values_.append(value[-1])#и добавляем в список\n",
        "      return max(values_)\n"
      ],
      "metadata": {
        "id": "M-vveinW9U1P"
      },
      "execution_count": 22,
      "outputs": []
    },
    {
      "cell_type": "code",
      "source": [
        "max_()"
      ],
      "metadata": {
        "colab": {
          "base_uri": "https://localhost:8080/"
        },
        "id": "RHh4qxdf-3k3",
        "outputId": "645ad2b5-ee04-4d6c-bfea-217c677b907b"
      },
      "execution_count": 20,
      "outputs": [
        {
          "output_type": "execute_result",
          "data": {
            "text/plain": [
              "98.7568"
            ]
          },
          "metadata": {},
          "execution_count": 20
        }
      ]
    },
    {
      "cell_type": "code",
      "source": [
        "print (\"Изменение по сравнению c прошлым значением {:}\".format(Rate(diff=True).usd()))"
      ],
      "metadata": {
        "colab": {
          "base_uri": "https://localhost:8080/"
        },
        "id": "iu-_MfQl_11I",
        "outputId": "792b31b0-38aa-46dd-ae58-186b2d6558af"
      },
      "execution_count": 28,
      "outputs": [
        {
          "output_type": "stream",
          "name": "stdout",
          "text": [
            "Изменение по сравнению c прошлым значением 73.8645\n"
          ]
        }
      ]
    },
    {
      "cell_type": "markdown",
      "source": [
        "##task_2"
      ],
      "metadata": {
        "id": "R7XhIe0VA4mH"
      }
    },
    {
      "cell_type": "code",
      "source": [
        "class Employee:\n",
        "    def __init__(self, name, seniority, awards):\n",
        "        self.name = name\n",
        "        self.seniority = seniority\n",
        "        self.awards= awards\n",
        "        \n",
        "        self.grade = 1\n",
        "    \n",
        "    def grade_up(self):\n",
        "        \"\"\"Повышает уровень сотрудника\"\"\"\n",
        "        self.grade += 1\n",
        "    \n",
        "    def publish_grade(self):\n",
        "        \"\"\"Публикация результатов аккредитации сотрудников\"\"\"\n",
        "        print(self.name, self.grade)"
      ],
      "metadata": {
        "id": "o8Z2XsJxMNcp"
      },
      "execution_count": 140,
      "outputs": []
    },
    {
      "cell_type": "code",
      "source": [
        "class Developer(Employee):\n",
        "    def __init__(self, name, seniority, awards=0):\n",
        "        super().__init__(name, seniority, awards=0)\n",
        "    \n",
        "    def check_if_it_is_time_for_upgrade(self):\n",
        "        # для каждой аккредитации увеличиваем счетчик на 1\n",
        "        # пока считаем, что все разработчики проходят аккредитацию\n",
        "        self.seniority += 1\n",
        "        \n",
        "        # условие повышения сотрудника из презентации\n",
        "        if self.seniority % 5 == 0:\n",
        "            self.grade_up()\n",
        "        \n",
        "        # публикация результатов\n",
        "        return self.publish_grade()\n"
      ],
      "metadata": {
        "id": "w3GfINs-MPqo"
      },
      "execution_count": 141,
      "outputs": []
    },
    {
      "cell_type": "code",
      "source": [
        "class Designer(Employee):\n",
        "    def __init__(self, name, seniority, awards):\n",
        "        super().__init__(name, seniority, awards)\n",
        "        \n",
        "    def check_if_it_is_time_for_upgrade(self):\n",
        "        if self.seniority==0: \n",
        "            self.seniority=1+self.awards*2\n",
        "        else:\n",
        "            self.seniority+=1\n",
        "        if self.seniority % 7==0:\n",
        "                self.grade_up()\n",
        "        \n",
        "        return self.publish_grade()\n",
        "    "
      ],
      "metadata": {
        "id": "D7BJxkGLBH_A"
      },
      "execution_count": 142,
      "outputs": []
    },
    {
      "cell_type": "code",
      "source": [],
      "metadata": {
        "id": "1FwanOPOMPGU"
      },
      "execution_count": null,
      "outputs": []
    },
    {
      "cell_type": "code",
      "source": [
        "Hristo = Designer('Hristo',0,2)"
      ],
      "metadata": {
        "id": "4s1Guk_OCvvp"
      },
      "execution_count": 143,
      "outputs": []
    },
    {
      "cell_type": "code",
      "source": [
        "for i in range(20):\n",
        "    Hristo.check_if_it_is_time_for_upgrade()"
      ],
      "metadata": {
        "colab": {
          "base_uri": "https://localhost:8080/"
        },
        "id": "ZCJob6swDdNA",
        "outputId": "d4a4542f-a284-41b4-f86f-1d673d1ee542"
      },
      "execution_count": 144,
      "outputs": [
        {
          "output_type": "stream",
          "name": "stdout",
          "text": [
            "Hristo 1\n",
            "Hristo 1\n",
            "Hristo 2\n",
            "Hristo 2\n",
            "Hristo 2\n",
            "Hristo 2\n",
            "Hristo 2\n",
            "Hristo 2\n",
            "Hristo 2\n",
            "Hristo 3\n",
            "Hristo 3\n",
            "Hristo 3\n",
            "Hristo 3\n",
            "Hristo 3\n",
            "Hristo 3\n",
            "Hristo 3\n",
            "Hristo 4\n",
            "Hristo 4\n",
            "Hristo 4\n",
            "Hristo 4\n"
          ]
        }
      ]
    }
  ]
}