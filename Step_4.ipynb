{
  "nbformat": 4,
  "nbformat_minor": 0,
  "metadata": {
    "colab": {
      "provenance": []
    },
    "kernelspec": {
      "name": "python3",
      "display_name": "Python 3"
    },
    "language_info": {
      "name": "python"
    }
  },
  "cells": [
    {
      "cell_type": "markdown",
      "source": [
        "# Python Step_4"
      ],
      "metadata": {
        "id": "e8drzhvWOX3C"
      }
    },
    {
      "cell_type": "markdown",
      "source": [
        "##task_1\n"
      ],
      "metadata": {
        "id": "wHD9thh7Ocpq"
      }
    },
    {
      "cell_type": "code",
      "execution_count": 2,
      "metadata": {
        "id": "6X8Gz_6GMSAO"
      },
      "outputs": [],
      "source": [
        "documents = [\n",
        "    {'type': 'passport', 'number': '2207 876234', 'name': 'Василий Гупкин'},\n",
        "    {'type': 'invoice', 'number': '11-2', 'name': 'Геннадий Покемонов'},\n",
        "    {'type': 'insurance', 'number': '10006', 'name': 'Аристарх Павлов'}\n",
        "]\n",
        "\n",
        "directories = {\n",
        "    '1': ['2207 876234', '11-2'],\n",
        "    '2': ['10006'],\n",
        "    '3': []\n",
        "}"
      ]
    },
    {
      "cell_type": "markdown",
      "source": [
        "point_1"
      ],
      "metadata": {
        "id": "GRpYuKgcSwqC"
      }
    },
    {
      "cell_type": "code",
      "source": [
        "def p(number_doc):\n",
        "    \"\"\"\n",
        "    Функция возвращает по номеру документа данные о его владельце\n",
        "    \"\"\"\n",
        "    owner_name = ''\n",
        "    for row in documents:\n",
        "        if row['number'] == number_doc:\n",
        "            owner_name = 'Владелец документа: ' + row['name']\n",
        "    if owner_name == '': \n",
        "        owner_name = 'Документ не найден в базе'\n",
        "    return owner_name\n"
      ],
      "metadata": {
        "id": "PwuijaKzSn2Q"
      },
      "execution_count": 33,
      "outputs": []
    },
    {
      "cell_type": "markdown",
      "source": [
        "point_2"
      ],
      "metadata": {
        "id": "V8T3k89gZdW1"
      }
    },
    {
      "cell_type": "code",
      "source": [
        "def s(number_doc):\n",
        "    \"\"\"\n",
        "    Функция возвращает по номеру документа данные о месте хранения\n",
        "    \"\"\"\n",
        "    shelf = ''\n",
        "    for item, values in directories.items():\n",
        "        if number_doc in values:\n",
        "            shelf = 'Документ хранится на полке: ' + item\n",
        "    if shelf == '':\n",
        "        shelf='Документ не найден в базе'\n",
        "    return shelf"
      ],
      "metadata": {
        "id": "A0gfkwGLZfqn"
      },
      "execution_count": 42,
      "outputs": []
    },
    {
      "cell_type": "markdown",
      "source": [
        "point_3"
      ],
      "metadata": {
        "id": "ULKVSIrGaggi"
      }
    },
    {
      "cell_type": "code",
      "source": [
        "def l():\n",
        "    \"\"\"\n",
        "    Функция возвращает список документов на полках\n",
        "    \"\"\"\n",
        "    for i in documents:\n",
        "        for item, values in directories.items():\n",
        "            if i['number'] in values:\n",
        "                print('№ ' + i['number'] + ', тип: ' + i['type'] + ', владелец: ' + i['name'] + ', полка хранения: ' + item)"
      ],
      "metadata": {
        "id": "4ShTD_TwagGC"
      },
      "execution_count": 44,
      "outputs": []
    },
    {
      "cell_type": "markdown",
      "source": [
        "point_4"
      ],
      "metadata": {
        "id": "Vr9eciUkasjP"
      }
    },
    {
      "cell_type": "code",
      "source": [
        "def list_shelf():\n",
        "    \"\"\"\n",
        "    Функция возвращает список полок\n",
        "    \"\"\"    \n",
        "    listshelf = ''\n",
        "    for item, values in directories.items():\n",
        "        listshelf = listshelf + item + ',' \n",
        "    listshelf = listshelf[:-1] + '.'\n",
        "    return listshelf"
      ],
      "metadata": {
        "id": "uzGs0ZJBcBp7"
      },
      "execution_count": 52,
      "outputs": []
    },
    {
      "cell_type": "code",
      "source": [
        "def ads(number_shelf):\n",
        "    \"\"\"\n",
        "    Функция добавляет полку, если такой ещё нет\n",
        "    \"\"\"    \n",
        "    count = 0\n",
        "    for item, values in directories.items():\n",
        "        if number_shelf in item:\n",
        "            count = 1\n",
        "    if count == 1:\n",
        "        print('Такая полка уже существует. Текущий перечень полок: ' + list_shelf())\n",
        "    else:\n",
        "        directories[number_shelf]=[]\n",
        "        print('Полка добавлена. Текущий перечень полок: '+ list_shelf())"
      ],
      "metadata": {
        "id": "v6hppI0ZauEa"
      },
      "execution_count": 53,
      "outputs": []
    },
    {
      "cell_type": "markdown",
      "source": [
        "point_5"
      ],
      "metadata": {
        "id": "4d63YtQsckSJ"
      }
    },
    {
      "cell_type": "code",
      "source": [
        "def ds(number_shelf):\n",
        "    \"\"\"\n",
        "    Функция удаляе полку, если она не пустая\n",
        "    \"\"\"\n",
        "    count = 0\n",
        "    for item, values in directories.items():\n",
        "        if number_shelf in item:\n",
        "            count = 1\n",
        "            if values != []:\n",
        "                count = 2\n",
        "    if count == 1:\n",
        "        del directories[number_shelf]\n",
        "        print('Полка удалена. Текущий перечень полок: '+ list_shelf())\n",
        "    elif count == 2:\n",
        "        print('На полке есть документа, удалите их перед удалением полки. Текущий перечень полок: ' + list_shelf())\n",
        "    else:\n",
        "        print('Такая полка не существует. Текущий перечень полок: ' + list_shelf())"
      ],
      "metadata": {
        "id": "AKiCHiNecmg1"
      },
      "execution_count": 55,
      "outputs": []
    },
    {
      "cell_type": "code",
      "source": [],
      "metadata": {
        "id": "RG3JRqmLc-PU"
      },
      "execution_count": null,
      "outputs": []
    },
    {
      "cell_type": "code",
      "source": [
        "def main():\n",
        "    \"\"\"\n",
        "    Основная функция автоматизации работы секретаря\n",
        "    \"\"\"\n",
        "    a = 0\n",
        "    while a < 1:\n",
        "        command_input=input('Введите команду: \\n')\n",
        "        if command_input == 'p':\n",
        "            number_input=input('Введите номер документа: \\n')\n",
        "            print(p(number_input))\n",
        "        elif command_input == 's':\n",
        "            number_input=input('Введите номер документа: \\n')\n",
        "            print(s(number_input))\n",
        "        elif command_input == 'l':\n",
        "            l()\n",
        "        elif command_input == 'ads':\n",
        "            number_input=input('Введите номер полки: \\n')\n",
        "            ads(number_input)\n",
        "        elif command_input == 'ds':\n",
        "            number_input=input('Введите номер полки: \\n')\n",
        "            ds(number_input)\n",
        "        elif command_input == 'q':\n",
        "            break\n",
        "        else:\n",
        "            print('Нет такой команды')\n",
        "main()"
      ],
      "metadata": {
        "colab": {
          "base_uri": "https://localhost:8080/"
        },
        "id": "F_VbnV7wNn7R",
        "outputId": "372d1fa5-caa2-4444-f9c8-69fc57d21960"
      },
      "execution_count": 56,
      "outputs": [
        {
          "name": "stdout",
          "output_type": "stream",
          "text": [
            "Введите команду: \n",
            "p\n",
            "Введите номер документа: \n",
            "10006\n",
            "Владелец документа: Аристарх Павлов\n",
            "Введите команду: \n",
            "s\n",
            "Введите номер документа: \n",
            "10006\n",
            "Документ хранится на полке: 2\n",
            "Введите команду: \n",
            "l\n",
            "№ 2207 876234, тип: passport, владелец: Василий Гупкин, полка хранения: 1\n",
            "№ 11-2, тип: invoice, владелец: Геннадий Покемонов, полка хранения: 1\n",
            "№ 10006, тип: insurance, владелец: Аристарх Павлов, полка хранения: 2\n",
            "Введите команду: \n",
            "ads\n",
            "Введите номер полки: \n",
            "3\n",
            "Такая полка уже существует. Текущий перечень полок: 1,2,3,10,11.\n",
            "Введите команду: \n",
            "ds\n",
            "Введите номер полки: \n",
            "11\n",
            "Полка удалена. Текущий перечень полок: 1,2,3,10.\n",
            "Введите команду: \n",
            "1\n",
            "Нет такой команды\n",
            "Введите команду: \n",
            "q\n"
          ]
        }
      ]
    }
  ]
}