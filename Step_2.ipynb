{
  "nbformat": 4,
  "nbformat_minor": 0,
  "metadata": {
    "colab": {
      "provenance": []
    },
    "kernelspec": {
      "name": "python3",
      "display_name": "Python 3"
    },
    "language_info": {
      "name": "python"
    }
  },
  "cells": [
    {
      "cell_type": "markdown",
      "source": [
        "# Python step_1"
      ],
      "metadata": {
        "id": "sEzK69-uKvRI"
      }
    },
    {
      "cell_type": "markdown",
      "source": [
        "## task_1"
      ],
      "metadata": {
        "id": "iz7dty0TNQgG"
      }
    },
    {
      "cell_type": "code",
      "execution_count": 25,
      "metadata": {
        "colab": {
          "base_uri": "https://localhost:8080/",
          "height": 53
        },
        "id": "OFOI5_Y2Kt6K",
        "outputId": "50e87305-fb13-441a-e75b-caef35ccd492"
      },
      "outputs": [
        {
          "name": "stdout",
          "output_type": "stream",
          "text": [
            "gegege\n"
          ]
        },
        {
          "output_type": "execute_result",
          "data": {
            "text/plain": [
              "'ge'"
            ],
            "application/vnd.google.colaboratory.intrinsic+json": {
              "type": "string"
            }
          },
          "metadata": {},
          "execution_count": 25
        }
      ],
      "source": [
        "word = input() \n",
        "\n",
        "def median_txt(word):\n",
        "  if len(word) % 2 != 0: \n",
        "    return word[len(word) // 2]\n",
        "  else:\n",
        "    return word[len(word) // 2 -1 : len(word)//2 +1 ]\n",
        " \n",
        "median_txt(word)"
      ]
    },
    {
      "cell_type": "markdown",
      "source": [
        "## task_2"
      ],
      "metadata": {
        "id": "GQLJD4lxVC1N"
      }
    },
    {
      "cell_type": "code",
      "source": [
        "\n",
        "def sum():\n",
        "  res = 0\n",
        "  while True:\n",
        "    i = int(input())\n",
        "    if i == 0:\n",
        "      break\n",
        "    try:\n",
        "        res += i\n",
        "    except:\n",
        "        break\n",
        "  return res\n",
        "\n",
        "sum()"
      ],
      "metadata": {
        "colab": {
          "base_uri": "https://localhost:8080/"
        },
        "id": "fgU0Sl78VCDD",
        "outputId": "9e2a14f1-f8d4-42ec-a81c-ac7ea0d72401"
      },
      "execution_count": 34,
      "outputs": [
        {
          "name": "stdout",
          "output_type": "stream",
          "text": [
            "5\n",
            "6\n",
            "8\n",
            "9\n",
            "0\n"
          ]
        },
        {
          "output_type": "execute_result",
          "data": {
            "text/plain": [
              "28"
            ]
          },
          "metadata": {},
          "execution_count": 34
        }
      ]
    },
    {
      "cell_type": "markdown",
      "source": [
        "## task_3"
      ],
      "metadata": {
        "id": "33KAYLoHe20K"
      }
    },
    {
      "cell_type": "code",
      "source": [
        "boys = ['Peter', 'Alex', 'John', 'Arthur', 'Richard']\n",
        "girls = ['Kate', 'Liza', 'Kira', 'Emma', 'Trisha']\n",
        "\n",
        "def mvp(boys,girls) -> dict:\n",
        "  if len(boys) != len(girls):\n",
        "    return 'Внимание, кто-то может остаться без пары!'\n",
        "  else:\n",
        "    boys = sorted(boys)\n",
        "    girls = sorted(girls)\n",
        "    print( 'Идеальные пары:')\n",
        "    for i,j in zip(boys,girls):\n",
        "        print( f'{i} и {j}')\n",
        "\n",
        "    \n",
        "\n",
        "mvp(boys,girls)"
      ],
      "metadata": {
        "colab": {
          "base_uri": "https://localhost:8080/"
        },
        "id": "3auYqhafe2X6",
        "outputId": "7f7de2c7-e986-4976-bab9-e5aa9154bb2d"
      },
      "execution_count": 177,
      "outputs": [
        {
          "output_type": "stream",
          "name": "stdout",
          "text": [
            "Идеальные пары:\n",
            "Alex и Emma\n",
            "Arthur и Kate\n",
            "John и Kira\n",
            "Peter и Liza\n",
            "Richard и Trisha\n"
          ]
        }
      ]
    },
    {
      "cell_type": "markdown",
      "source": [
        "## task_4"
      ],
      "metadata": {
        "id": "uFnNP8dPq001"
      }
    },
    {
      "cell_type": "code",
      "source": [
        "import numpy as np\n",
        "\n",
        "countries_temperature = [\n",
        "    ['Таиланд', [75.2, 77, 78.8, 73.4, 68, 75.2, 77]],\n",
        "    ['Германия', [57.2, 55.4, 59, 59, 53.6]],\n",
        "    ['Россия', [35.6, 37.4, 39.2, 41, 42.8, 39.2, 35.6]],\n",
        "    ['Польша', [50, 50, 53.6, 57.2, 55.4, 55.4]]\n",
        "]\n",
        "print('Средняя температура в странах:')                     \n",
        "for i,j in countries_temperature:\n",
        "   p = round((np.mean(j) - 32) /1.8,2)\n",
        "   print(f'{i} - {p} C')\n",
        "\n"
      ],
      "metadata": {
        "colab": {
          "base_uri": "https://localhost:8080/"
        },
        "id": "VmQ3lpwxp2uP",
        "outputId": "2af0b6dd-bc58-4080-f4f4-542490d36654"
      },
      "execution_count": 181,
      "outputs": [
        {
          "output_type": "stream",
          "name": "stdout",
          "text": [
            "Средняя температура в странах:\n",
            "Таиланд - 23.86 C\n",
            "Германия - 13.8 C\n",
            "Россия - 3.71 C\n",
            "Польша - 12.0 C\n"
          ]
        }
      ]
    },
    {
      "cell_type": "markdown",
      "source": [
        "## task_5"
      ],
      "metadata": {
        "id": "YBKbTAU73rhE"
      }
    },
    {
      "cell_type": "code",
      "source": [
        "import re\n",
        "car_ids = ['А222ВС96','АБ22ВВ193']\n",
        "##1 буква, 3 цифры, 2 буквы, 2-3 цифры\n",
        "def valid(car_ids):\n",
        "# фильтр для выражения  \n",
        "  regexp = re.compile(r'^[АВЕКМНОРСТУХ]\\d{3}[АВЕКМНОРСТУХ]{2}(?P<reg>\\d{2,3})$')\n",
        "  for i in car_ids:\n",
        "\n",
        "    match = regexp.match(i)\n",
        "    if match:\n",
        "      print(f\"Результат: Номер {i} валиден. Регион: {match['reg']}\")\n",
        "    else:\n",
        "      print(f\"Результат: Номер {i} не валиден\")\n",
        "valid(car_ids)"
      ],
      "metadata": {
        "colab": {
          "base_uri": "https://localhost:8080/"
        },
        "id": "S0GjtOWV3uAG",
        "outputId": "539d627f-12a2-4253-916f-2280170be304"
      },
      "execution_count": 195,
      "outputs": [
        {
          "output_type": "stream",
          "name": "stdout",
          "text": [
            "Результат: Номер А222ВС96 валиден. Регион: 96\n",
            "Результат: Номер АБ22ВВ193 не валиден\n"
          ]
        }
      ]
    },
    {
      "cell_type": "markdown",
      "source": [
        "## tasc_6"
      ],
      "metadata": {
        "id": "_9oCA1wQ8k09"
      }
    },
    {
      "cell_type": "code",
      "source": [
        "import re\n",
        "import numpy as np\n",
        "stream = [\n",
        "    'user4,2021-01-01;3',\n",
        "    'user3,2022-01-07;4',\n",
        "    'user2,2022-03-29;1',\n",
        "    'user1,2020-04-04;13',\n",
        "    'user2,2022-01-05;7',\n",
        "    'user1,2021-06-14;4',\n",
        "    'user3,2022-07-02;10',\n",
        "    'user4,2021-03-21;19',\n",
        "    'user4,2022-03-22;4',\n",
        "    'user4,2022-04-22;8',\n",
        "    'user4,2021-05-03;9',\n",
        "    'user4,2022-05-11;11'\n",
        "    ]\n",
        "\n",
        "def avg_views(stream):\n",
        "\n",
        "    dict_logs=[]\n",
        "    summ = []\n",
        "##Создаем регулярные выражения\n",
        "    reg = re.compile(r'\\w{4}\\d+')\n",
        "    init = re.compile(r'\\d+$')\n",
        "    \n",
        "##Итерируемся по значениям \n",
        "    for i in stream:\n",
        "      res = reg.findall(i)\n",
        "##если списки нет значения мы добавляем его\n",
        "      if res not in dict_logs:\n",
        "        dict_logs.append(res)\n",
        "##находим сумму всех просмотров           \n",
        "      dec = init.findall(i)\n",
        "      summ += map(int,dec)\n",
        "\n",
        "      \n",
        "      \n",
        "    \n",
        "    return np.sum(summ)/len(dict_logs)\n",
        "avg_views(stream)"
      ],
      "metadata": {
        "colab": {
          "base_uri": "https://localhost:8080/"
        },
        "id": "h26wSc5t6W09",
        "outputId": "bcfc89bd-3d95-436a-f6bd-0a1f422a9b96"
      },
      "execution_count": 297,
      "outputs": [
        {
          "output_type": "execute_result",
          "data": {
            "text/plain": [
              "23.25"
            ]
          },
          "metadata": {},
          "execution_count": 297
        }
      ]
    }
  ]
}