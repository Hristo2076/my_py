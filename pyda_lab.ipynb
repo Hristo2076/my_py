{
  "cells": [
    {
      "cell_type": "markdown",
      "metadata": {
        "id": "f2gOzOH53bws"
      },
      "source": [
        "## Лабораторная работа по курсу «Основы Python»"
      ]
    },
    {
      "cell_type": "markdown",
      "metadata": {
        "id": "DK_5eLqV3bwy"
      },
      "source": [
        "### При выполнении работы допускается использование любых внешних модулей и пакетов."
      ]
    },
    {
      "cell_type": "markdown",
      "metadata": {
        "id": "AJLCiEct3bwz"
      },
      "source": [
        "#### Задача 1"
      ]
    },
    {
      "cell_type": "markdown",
      "metadata": {
        "id": "6NdTUEmt3bw0"
      },
      "source": [
        "Дан список:"
      ]
    },
    {
      "cell_type": "code",
      "execution_count": 2,
      "metadata": {
        "id": "_1oxhly43bw0"
      },
      "outputs": [],
      "source": [
        "list_01 = [1, 1, 2, 3, 5, 8, 13, 21, 34, 55, 89, 144, 233, 377, 610, 14, 46, 273, 22, 99, 15, 1000]"
      ]
    },
    {
      "cell_type": "markdown",
      "metadata": {
        "id": "RHhpc6Fk3bw2"
      },
      "source": [
        "Напишите алгоритм, который выводит число, равное сумме элементов списка, которые больше 10, но меньше 100, и которые больше 200, но меньше 500."
      ]
    },
    {
      "cell_type": "code",
      "execution_count": 5,
      "metadata": {
        "id": "d5WQ0kq33bw2",
        "colab": {
          "base_uri": "https://localhost:8080/"
        },
        "outputId": "6422e94a-ad8d-4e5e-b074-4aa3d16e09c5"
      },
      "outputs": [
        {
          "output_type": "execute_result",
          "data": {
            "text/plain": [
              "1291"
            ]
          },
          "metadata": {},
          "execution_count": 5
        }
      ],
      "source": [
        "sum([x for x in list_01 if 10 < x < 100 or 200< x < 500])"
      ]
    },
    {
      "cell_type": "markdown",
      "metadata": {
        "id": "rymKwQk13bw3"
      },
      "source": [
        "#### Задача 2"
      ]
    },
    {
      "cell_type": "markdown",
      "metadata": {
        "id": "759NO3Ed3bw4"
      },
      "source": [
        "Дана строка:"
      ]
    },
    {
      "cell_type": "code",
      "execution_count": 9,
      "metadata": {
        "id": "7v1PJFmW3bw5"
      },
      "outputs": [],
      "source": [
        "some_string = \"History is always written by the winners. When two cultures clash, the loser is obliterated, and the winner writes the history books - books which glorify their own cause and disparage the conquered foe. As Napoleon once said, 'What is history, but a fable agreed upon?'\""
      ]
    },
    {
      "cell_type": "markdown",
      "metadata": {
        "id": "Uq2ZV1Bc3bw5"
      },
      "source": [
        "Напишите функцию, которая будет принимать в качестве аргумента букву и выводить все слова из строки, начинающиеся на эту букву (например, “w”)."
      ]
    },
    {
      "cell_type": "code",
      "execution_count": 6,
      "metadata": {
        "id": "nwuQh3jy3bw6"
      },
      "outputs": [],
      "source": [
        "import re"
      ]
    },
    {
      "cell_type": "code",
      "execution_count": 10,
      "metadata": {
        "id": "cMPIdCAG3bw6"
      },
      "outputs": [],
      "source": [
        "def words(leter):\n",
        "  patern = fr'\\b{leter}\\w*'\n",
        "  list_words = re.findall(patern, some_string,re.I)\n",
        "  print(list_words)\n"
      ]
    },
    {
      "cell_type": "code",
      "execution_count": 11,
      "metadata": {
        "id": "jxT_dXeu3bw7",
        "colab": {
          "base_uri": "https://localhost:8080/"
        },
        "outputId": "8b3d1e21-8abb-43c8-916a-94cc8e0c394b"
      },
      "outputs": [
        {
          "output_type": "stream",
          "name": "stdout",
          "text": [
            "['written', 'winners', 'When', 'winner', 'writes', 'which', 'What']\n"
          ]
        }
      ],
      "source": [
        "words('w')"
      ]
    },
    {
      "cell_type": "code",
      "execution_count": null,
      "metadata": {
        "id": "7tk3djDd3bw7"
      },
      "outputs": [],
      "source": []
    },
    {
      "cell_type": "markdown",
      "metadata": {
        "id": "N426WzAQ3bw8"
      },
      "source": [
        "#### Задача 3"
      ]
    },
    {
      "cell_type": "markdown",
      "metadata": {
        "id": "3P-H4Kir3bw8"
      },
      "source": [
        "Напишите функцию, которая генерирует случайную последовательность из 6 цифр, причем в этой последовательности должна быть как минимум одна цифра 3. Позиция 3 определяться случайным образом. Например: \"456379\" или \"033456\"."
      ]
    },
    {
      "cell_type": "code",
      "execution_count": 12,
      "metadata": {
        "id": "uMB4yrk73bw8"
      },
      "outputs": [],
      "source": [
        "import random"
      ]
    },
    {
      "cell_type": "code",
      "execution_count": 16,
      "metadata": {
        "id": "PVjfoh6j3bw9"
      },
      "outputs": [],
      "source": [
        "def random_num():\n",
        "  number = ''\n",
        "  while '3' not in number:\n",
        "    numbers = []\n",
        "    for i in range(6):\n",
        "      num = random.randint(0,9)\n",
        "      numbers.append(str(num))\n",
        "    number = ''.join(numbers)\n",
        "  return number"
      ]
    },
    {
      "cell_type": "code",
      "execution_count": 19,
      "metadata": {
        "id": "eRb49WON3bw9",
        "colab": {
          "base_uri": "https://localhost:8080/",
          "height": 36
        },
        "outputId": "032092f6-95a0-44df-9314-4eeb4f8f77a8"
      },
      "outputs": [
        {
          "output_type": "execute_result",
          "data": {
            "text/plain": [
              "'620873'"
            ],
            "application/vnd.google.colaboratory.intrinsic+json": {
              "type": "string"
            }
          },
          "metadata": {},
          "execution_count": 19
        }
      ],
      "source": [
        "random_num()"
      ]
    },
    {
      "cell_type": "code",
      "execution_count": null,
      "metadata": {
        "id": "pTskRBZb3bw9"
      },
      "outputs": [],
      "source": []
    },
    {
      "cell_type": "markdown",
      "metadata": {
        "id": "Uw6vPphN3bw9"
      },
      "source": [
        "#### Задача 4"
      ]
    },
    {
      "cell_type": "markdown",
      "metadata": {
        "id": "ZsMxXjLP3bw-"
      },
      "source": [
        "Данные студентов представлены в виде списка списков:"
      ]
    },
    {
      "cell_type": "code",
      "execution_count": 20,
      "metadata": {
        "id": "jabdU1yS3bw-"
      },
      "outputs": [],
      "source": [
        "students = [\n",
        "[\"0001\", \"Антонов\", \"Антон\", \"Игоревич\", \"20.08.2009\",\"БСТ161\"],\n",
        "[\"1102\", \"Богов\", \"Артем\", \"Игоревич\", \"25.01.2010\",\"БСТ162\"],\n",
        "[\"0333\", \"Глаголева\", \"Анастасия\", \"Николаевна\", \"11.07.2009\", \"БСТ163\"],\n",
        "[\"4004\", \"Степанова\", \"Наталья\", \"Александровна\", \"13.02.2008\", \"БСТ161\"],\n",
        "[\"0045\", \"Боков\", \"Игорь\", \"Харитонович\", \"02.06.2009\", \"БСТ161\"],\n",
        "[\"0096\", \"Васильков\", \"Валентин\", \"Сергеевич\", \"20.03.2009\", \"БСТ164\"],\n",
        "[\"0607\", \"Сиропова\", \"Виолетта\", \"Эдуардовна\", \"28.05.2010\", \"БСТ162\"],\n",
        "[\"4014\", \"Потапов\", \"Дмитрий\", \"Станиславович\", \"14.02.2012\", \"БСТ161\"]\n",
        "    ]"
      ]
    },
    {
      "cell_type": "markdown",
      "metadata": {
        "id": "xa7yGV9t3bw_"
      },
      "source": [
        "1. Преобразуйте данные таким образом, чтобы они были представлены в виде словаря, в котором ключами являются номера студентов, а значениями — список из других данных о студентах."
      ]
    },
    {
      "cell_type": "code",
      "execution_count": 21,
      "metadata": {
        "id": "HQyl3scY3bw_"
      },
      "outputs": [],
      "source": [
        "dict_ = {}\n",
        "for i in students:\n",
        "  dict_[i[0]] = i[1:]"
      ]
    },
    {
      "cell_type": "code",
      "execution_count": 22,
      "metadata": {
        "id": "HFmEzqtI3bw_",
        "colab": {
          "base_uri": "https://localhost:8080/"
        },
        "outputId": "0abc6329-196a-43b0-da64-1d150be2e6ea"
      },
      "outputs": [
        {
          "output_type": "execute_result",
          "data": {
            "text/plain": [
              "{'0001': ['Антонов', 'Антон', 'Игоревич', '20.08.2009', 'БСТ161'],\n",
              " '1102': ['Богов', 'Артем', 'Игоревич', '25.01.2010', 'БСТ162'],\n",
              " '0333': ['Глаголева', 'Анастасия', 'Николаевна', '11.07.2009', 'БСТ163'],\n",
              " '4004': ['Степанова', 'Наталья', 'Александровна', '13.02.2008', 'БСТ161'],\n",
              " '0045': ['Боков', 'Игорь', 'Харитонович', '02.06.2009', 'БСТ161'],\n",
              " '0096': ['Васильков', 'Валентин', 'Сергеевич', '20.03.2009', 'БСТ164'],\n",
              " '0607': ['Сиропова', 'Виолетта', 'Эдуардовна', '28.05.2010', 'БСТ162'],\n",
              " '4014': ['Потапов', 'Дмитрий', 'Станиславович', '14.02.2012', 'БСТ161']}"
            ]
          },
          "metadata": {},
          "execution_count": 22
        }
      ],
      "source": [
        "dict_"
      ]
    },
    {
      "cell_type": "markdown",
      "metadata": {
        "id": "a22arWxW3bxA"
      },
      "source": [
        "2. Напишите функцию, которая принимает номер группы и выводит пронумерованный и упорядоченный по алфавиту список (фамилии, имена, отчества) всех студентов этой группы. Необходимо обращаться к словарю."
      ]
    },
    {
      "cell_type": "code",
      "execution_count": 27,
      "metadata": {
        "id": "rFfvATq63bxA"
      },
      "outputs": [],
      "source": [
        "def group_list(group):\n",
        "  res = []\n",
        "  for x in dict_.values():\n",
        "    if x[-1] == group:\n",
        "      res.append(f'{x[0]} {x[1]} {x[2]}')\n",
        "  for j,x in enumerate(sorted(res)):\n",
        "    return j+1,x"
      ]
    },
    {
      "cell_type": "code",
      "execution_count": 28,
      "metadata": {
        "id": "QmRApHwj3bxA",
        "colab": {
          "base_uri": "https://localhost:8080/"
        },
        "outputId": "1c5e4022-ee54-447a-cc1b-be7f149e5801"
      },
      "outputs": [
        {
          "output_type": "execute_result",
          "data": {
            "text/plain": [
              "(1, 'Богов Артем Игоревич')"
            ]
          },
          "metadata": {},
          "execution_count": 28
        }
      ],
      "source": [
        "group_list('БСТ162')"
      ]
    },
    {
      "cell_type": "markdown",
      "metadata": {
        "id": "PEIgf-aT3bxA"
      },
      "source": [
        "#### Задача 5"
      ]
    },
    {
      "cell_type": "markdown",
      "metadata": {
        "id": "BM_4-9UA3bxB"
      },
      "source": [
        "Создайте класс Student, который создает объекты с данными о студентах (как в задаче 4). Класс должен иметь следующие методы: add_to_dict (добавляет объект в словарь из задачи 4), update_dict (обновляет запись о студенте в словаре из задачи 4), change_group (изменяет номер группы студента), change_id (изменяет номер студента) и print_date (выводит на экран данные студента)."
      ]
    },
    {
      "cell_type": "code",
      "execution_count": 48,
      "metadata": {
        "id": "nU86sgh23bxB"
      },
      "outputs": [],
      "source": [
        "class Student:\n",
        "    def __init__(self, s_id, last_name, first_name, patronomic_name, date, group):\n",
        "       self.id = s_id\n",
        "       self.last_name = last_name\n",
        "       self.first_name = first_name\n",
        "       self.patronomic_name = patronomic_name\n",
        "       self.date = date\n",
        "       self.group = group\n",
        "        \n",
        "    def add_to_dict(self):\n",
        "      if self.id in dict_.keys():\n",
        "        return 'Студент с таким номером уже сщуствует'\n",
        "      else:\n",
        "        dict_[self.id] = [self.last_name, self.first_name, self.patronomic_name, self.date, self.group]\n",
        "        \n",
        "        \n",
        "    def update_dict(self):\n",
        "      dict_[self.id] = [self.last_name, self.first_name, self.patronomic_name, self.date, self.group]\n",
        "        \n",
        "        \n",
        "        \n",
        "    def change_group(self, new_group):\n",
        "      self.group = new_group\n",
        "        \n",
        "        \n",
        "    def change_id(self, new_id):\n",
        "      self.id = new_id\n",
        "        \n",
        "        \n",
        "    def print_data(self):\n",
        "      return f'{self.id} {self.last_name} {self.first_name} {self.patronomic_name} {self.date} {self.group}'\n",
        "        \n",
        "        "
      ]
    },
    {
      "cell_type": "markdown",
      "metadata": {
        "id": "rVWYGGMj3bxC"
      },
      "source": [
        "1. Создайте объект класса, добавьте его в словарь. Обновленный словарь выведете на экран."
      ]
    },
    {
      "cell_type": "code",
      "execution_count": 49,
      "metadata": {
        "id": "Bw7XwMRQ3bxC"
      },
      "outputs": [],
      "source": [
        "volkova = Student('0001', 'Волкова', 'Галина', 'Сергеевна', '18.12.2022', 'БСТ100')"
      ]
    },
    {
      "cell_type": "code",
      "execution_count": 50,
      "metadata": {
        "id": "5h4UD6Eh3bxD",
        "colab": {
          "base_uri": "https://localhost:8080/"
        },
        "outputId": "13662215-f14f-426c-87f2-267e0667ae08"
      },
      "outputs": [
        {
          "output_type": "execute_result",
          "data": {
            "text/plain": [
              "{'0001': ['Антонов', 'Антон', 'Игоревич', '20.08.2009', 'БСТ161'],\n",
              " '1102': ['Богов', 'Артем', 'Игоревич', '25.01.2010', 'БСТ162'],\n",
              " '0333': ['Глаголева', 'Анастасия', 'Николаевна', '11.07.2009', 'БСТ163'],\n",
              " '4004': ['Степанова', 'Наталья', 'Александровна', '13.02.2008', 'БСТ161'],\n",
              " '0045': ['Боков', 'Игорь', 'Харитонович', '02.06.2009', 'БСТ161'],\n",
              " '0096': ['Васильков', 'Валентин', 'Сергеевич', '20.03.2009', 'БСТ164'],\n",
              " '0607': ['Сиропова', 'Виолетта', 'Эдуардовна', '28.05.2010', 'БСТ162'],\n",
              " '4014': ['Потапов', 'Дмитрий', 'Станиславович', '14.02.2012', 'БСТ161'],\n",
              " '02': ['Волкова', 'Галина', 'Сергеевна', '18.12.2022', 'БСТ100']}"
            ]
          },
          "metadata": {},
          "execution_count": 50
        }
      ],
      "source": [
        "dict_"
      ]
    },
    {
      "cell_type": "code",
      "execution_count": 51,
      "metadata": {
        "id": "izZ16ecM3bxD",
        "colab": {
          "base_uri": "https://localhost:8080/",
          "height": 36
        },
        "outputId": "6d9ee845-0ec1-45c5-ccb9-1a0e2769ebef"
      },
      "outputs": [
        {
          "output_type": "execute_result",
          "data": {
            "text/plain": [
              "'0001 Волкова Галина Сергеевна 18.12.2022 БСТ100'"
            ],
            "application/vnd.google.colaboratory.intrinsic+json": {
              "type": "string"
            }
          },
          "metadata": {},
          "execution_count": 51
        }
      ],
      "source": [
        "volkova.print_data()"
      ]
    },
    {
      "cell_type": "code",
      "execution_count": 52,
      "metadata": {
        "id": "MfIP4Oqa3bxD",
        "colab": {
          "base_uri": "https://localhost:8080/",
          "height": 36
        },
        "outputId": "20896b0b-8624-4a07-b7a5-7f500163334a"
      },
      "outputs": [
        {
          "output_type": "execute_result",
          "data": {
            "text/plain": [
              "'Студент с таким номером уже сщуствует'"
            ],
            "application/vnd.google.colaboratory.intrinsic+json": {
              "type": "string"
            }
          },
          "metadata": {},
          "execution_count": 52
        }
      ],
      "source": [
        "volkova.add_to_dict()"
      ]
    },
    {
      "cell_type": "code",
      "execution_count": 53,
      "metadata": {
        "id": "j22BsKhQ3bxD"
      },
      "outputs": [],
      "source": [
        "volkova.change_id('0002')"
      ]
    },
    {
      "cell_type": "code",
      "source": [
        "volkova.add_to_dict()"
      ],
      "metadata": {
        "id": "q9Pr3IbC9W-z"
      },
      "execution_count": 54,
      "outputs": []
    },
    {
      "cell_type": "code",
      "source": [
        "dict_"
      ],
      "metadata": {
        "colab": {
          "base_uri": "https://localhost:8080/"
        },
        "id": "JrqnXnCT9dD0",
        "outputId": "a44b2ed5-af20-4fc4-862f-73f96b76aa31"
      },
      "execution_count": 55,
      "outputs": [
        {
          "output_type": "execute_result",
          "data": {
            "text/plain": [
              "{'0001': ['Антонов', 'Антон', 'Игоревич', '20.08.2009', 'БСТ161'],\n",
              " '1102': ['Богов', 'Артем', 'Игоревич', '25.01.2010', 'БСТ162'],\n",
              " '0333': ['Глаголева', 'Анастасия', 'Николаевна', '11.07.2009', 'БСТ163'],\n",
              " '4004': ['Степанова', 'Наталья', 'Александровна', '13.02.2008', 'БСТ161'],\n",
              " '0045': ['Боков', 'Игорь', 'Харитонович', '02.06.2009', 'БСТ161'],\n",
              " '0096': ['Васильков', 'Валентин', 'Сергеевич', '20.03.2009', 'БСТ164'],\n",
              " '0607': ['Сиропова', 'Виолетта', 'Эдуардовна', '28.05.2010', 'БСТ162'],\n",
              " '4014': ['Потапов', 'Дмитрий', 'Станиславович', '14.02.2012', 'БСТ161'],\n",
              " '02': ['Волкова', 'Галина', 'Сергеевна', '18.12.2022', 'БСТ100'],\n",
              " '0002': ['Волкова', 'Галина', 'Сергеевна', '18.12.2022', 'БСТ100']}"
            ]
          },
          "metadata": {},
          "execution_count": 55
        }
      ]
    },
    {
      "cell_type": "markdown",
      "metadata": {
        "id": "CItaDsCL3bxE"
      },
      "source": [
        "2. Измените номер группы студентки Волковой на 'БСТ161' и выведите обновленный список группы."
      ]
    },
    {
      "cell_type": "code",
      "execution_count": 56,
      "metadata": {
        "id": "escbGk8p3bxE"
      },
      "outputs": [],
      "source": [
        "volkova.change_group('БСТ161')"
      ]
    },
    {
      "cell_type": "code",
      "execution_count": 57,
      "metadata": {
        "id": "uhzolrwe3bxE",
        "colab": {
          "base_uri": "https://localhost:8080/"
        },
        "outputId": "d6b1c07f-cff1-4651-85f0-854266ac70d2"
      },
      "outputs": [
        {
          "output_type": "execute_result",
          "data": {
            "text/plain": [
              "{'0001': ['Антонов', 'Антон', 'Игоревич', '20.08.2009', 'БСТ161'],\n",
              " '1102': ['Богов', 'Артем', 'Игоревич', '25.01.2010', 'БСТ162'],\n",
              " '0333': ['Глаголева', 'Анастасия', 'Николаевна', '11.07.2009', 'БСТ163'],\n",
              " '4004': ['Степанова', 'Наталья', 'Александровна', '13.02.2008', 'БСТ161'],\n",
              " '0045': ['Боков', 'Игорь', 'Харитонович', '02.06.2009', 'БСТ161'],\n",
              " '0096': ['Васильков', 'Валентин', 'Сергеевич', '20.03.2009', 'БСТ164'],\n",
              " '0607': ['Сиропова', 'Виолетта', 'Эдуардовна', '28.05.2010', 'БСТ162'],\n",
              " '4014': ['Потапов', 'Дмитрий', 'Станиславович', '14.02.2012', 'БСТ161'],\n",
              " '02': ['Волкова', 'Галина', 'Сергеевна', '18.12.2022', 'БСТ100'],\n",
              " '0002': ['Волкова', 'Галина', 'Сергеевна', '18.12.2022', 'БСТ100']}"
            ]
          },
          "metadata": {},
          "execution_count": 57
        }
      ],
      "source": [
        "dict_"
      ]
    },
    {
      "cell_type": "code",
      "execution_count": 58,
      "metadata": {
        "id": "doleFa7S3bxE"
      },
      "outputs": [],
      "source": [
        "volkova.update_dict()"
      ]
    },
    {
      "cell_type": "code",
      "execution_count": 59,
      "metadata": {
        "id": "BdcbN9Ti3bxF",
        "colab": {
          "base_uri": "https://localhost:8080/"
        },
        "outputId": "dc1f61e2-7e61-42b2-d0f4-13ba2e1b0c8e"
      },
      "outputs": [
        {
          "output_type": "execute_result",
          "data": {
            "text/plain": [
              "{'0001': ['Антонов', 'Антон', 'Игоревич', '20.08.2009', 'БСТ161'],\n",
              " '1102': ['Богов', 'Артем', 'Игоревич', '25.01.2010', 'БСТ162'],\n",
              " '0333': ['Глаголева', 'Анастасия', 'Николаевна', '11.07.2009', 'БСТ163'],\n",
              " '4004': ['Степанова', 'Наталья', 'Александровна', '13.02.2008', 'БСТ161'],\n",
              " '0045': ['Боков', 'Игорь', 'Харитонович', '02.06.2009', 'БСТ161'],\n",
              " '0096': ['Васильков', 'Валентин', 'Сергеевич', '20.03.2009', 'БСТ164'],\n",
              " '0607': ['Сиропова', 'Виолетта', 'Эдуардовна', '28.05.2010', 'БСТ162'],\n",
              " '4014': ['Потапов', 'Дмитрий', 'Станиславович', '14.02.2012', 'БСТ161'],\n",
              " '02': ['Волкова', 'Галина', 'Сергеевна', '18.12.2022', 'БСТ100'],\n",
              " '0002': ['Волкова', 'Галина', 'Сергеевна', '18.12.2022', 'БСТ161']}"
            ]
          },
          "metadata": {},
          "execution_count": 59
        }
      ],
      "source": [
        "dict_"
      ]
    },
    {
      "cell_type": "markdown",
      "metadata": {
        "id": "5wf17TUK3bxF"
      },
      "source": [
        "#### Задача 6"
      ]
    },
    {
      "cell_type": "markdown",
      "metadata": {
        "id": "uTRMk0BA3bxF"
      },
      "source": [
        "Дана матрица matrix. Напишите код, который будет транспонировать её (то есть, делать из строк столбцы) в maytix_t:\n",
        "\n",
        "matrix_t = [\n",
        "    [0, 6, 3, 4, 5],\n",
        "    [1, 2, 3, 6, 7],\n",
        "    [2, 2, 3, 7, 3],\n",
        "    [4, 1, 3, 1, 4],\n",
        "    [8, 9, 3, 2, 0]\n",
        "]"
      ]
    },
    {
      "cell_type": "code",
      "execution_count": 63,
      "metadata": {
        "id": "gZqjLw-L3bxF"
      },
      "outputs": [],
      "source": [
        "matrix = [ \n",
        "    [0,1,2,4,8], \n",
        "    [6,2,2,1,9], \n",
        "    [3,3,3,3,3], \n",
        "    [4,6,7,1,2], \n",
        "    [5,7,3,4,0] \n",
        "]"
      ]
    },
    {
      "cell_type": "code",
      "execution_count": 60,
      "metadata": {
        "id": "u4s2mfp53bxG"
      },
      "outputs": [],
      "source": [
        "import numpy as np"
      ]
    },
    {
      "cell_type": "code",
      "execution_count": 66,
      "metadata": {
        "id": "KBUFxMs83bxG"
      },
      "outputs": [],
      "source": [
        "matrix_t = np.transpose(matrix)"
      ]
    },
    {
      "cell_type": "code",
      "execution_count": 67,
      "metadata": {
        "id": "4EhXv2s-3bxG",
        "colab": {
          "base_uri": "https://localhost:8080/"
        },
        "outputId": "9ec6d8ac-c9df-4329-e741-16575ffc51c4"
      },
      "outputs": [
        {
          "output_type": "execute_result",
          "data": {
            "text/plain": [
              "array([[0, 6, 3, 4, 5],\n",
              "       [1, 2, 3, 6, 7],\n",
              "       [2, 2, 3, 7, 3],\n",
              "       [4, 1, 3, 1, 4],\n",
              "       [8, 9, 3, 2, 0]])"
            ]
          },
          "metadata": {},
          "execution_count": 67
        }
      ],
      "source": [
        "matrix_t"
      ]
    }
  ],
  "metadata": {
    "kernelspec": {
      "display_name": "Python 3",
      "language": "python",
      "name": "python3"
    },
    "language_info": {
      "codemirror_mode": {
        "name": "ipython",
        "version": 3
      },
      "file_extension": ".py",
      "mimetype": "text/x-python",
      "name": "python",
      "nbconvert_exporter": "python",
      "pygments_lexer": "ipython3",
      "version": "3.9.0"
    },
    "colab": {
      "provenance": []
    }
  },
  "nbformat": 4,
  "nbformat_minor": 0
}